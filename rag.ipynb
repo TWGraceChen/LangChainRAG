{
 "cells": [
  {
   "cell_type": "code",
   "execution_count": 1,
   "metadata": {},
   "outputs": [
    {
     "name": "stderr",
     "output_type": "stream",
     "text": [
      "/Users/gracechen/Documents/github/LangChainRAG/grace/lib/python3.9/site-packages/urllib3/__init__.py:35: NotOpenSSLWarning: urllib3 v2 only supports OpenSSL 1.1.1+, currently the 'ssl' module is compiled with 'LibreSSL 2.8.3'. See: https://github.com/urllib3/urllib3/issues/3020\n",
      "  warnings.warn(\n",
      "/Users/gracechen/Documents/github/LangChainRAG/grace/lib/python3.9/site-packages/tqdm/auto.py:21: TqdmWarning: IProgress not found. Please update jupyter and ipywidgets. See https://ipywidgets.readthedocs.io/en/stable/user_install.html\n",
      "  from .autonotebook import tqdm as notebook_tqdm\n"
     ]
    }
   ],
   "source": [
    "import os\n",
    "from langchain_community.document_loaders.csv_loader import CSVLoader\n",
    "from langchain.document_loaders import TextLoader\n",
    "from langchain.text_splitter import RecursiveCharacterTextSplitter\n",
    "from langchain.vectorstores import Chroma\n",
    "from langchain_openai import ChatOpenAI,OpenAIEmbeddings\n",
    "from langchain.prompts import PromptTemplate\n",
    "from langchain.chains import RetrievalQA\n",
    "import gradio as gr"
   ]
  },
  {
   "cell_type": "code",
   "execution_count": 2,
   "metadata": {},
   "outputs": [
    {
     "data": {
      "text/plain": [
       "True"
      ]
     },
     "execution_count": 2,
     "metadata": {},
     "output_type": "execute_result"
    }
   ],
   "source": [
    "from dotenv import load_dotenv\n",
    "load_dotenv()"
   ]
  },
  {
   "cell_type": "code",
   "execution_count": 3,
   "metadata": {},
   "outputs": [
    {
     "data": {
      "text/plain": [
       "[Document(metadata={'source': './employees.csv', 'row': 0}, page_content='部門: 資訊部\\n職稱: 部門經理\\n姓名: 王大明\\n分機: 1001'),\n",
       " Document(metadata={'source': './employees.csv', 'row': 1}, page_content='部門: 資訊部\\n職稱: 軟體工程師\\n姓名: 李小華\\n分機: 1002'),\n",
       " Document(metadata={'source': './employees.csv', 'row': 2}, page_content='部門: 資訊部\\n職稱: 系統管理員\\n姓名: 張三\\n分機: 1003'),\n",
       " Document(metadata={'source': './employees.csv', 'row': 3}, page_content='部門: 行銷部\\n職稱: 部門經理\\n姓名: 陳美麗\\n分機: 2001'),\n",
       " Document(metadata={'source': './employees.csv', 'row': 4}, page_content='部門: 行銷部\\n職稱: 市場專員\\n姓名: 黃小玲\\n分機: 2002')]"
      ]
     },
     "execution_count": 3,
     "metadata": {},
     "output_type": "execute_result"
    }
   ],
   "source": [
    "# 使用文件載入器，讀取分機資料csv\n",
    "loader = CSVLoader(file_path='./employees.csv')\n",
    "data = loader.load()\n",
    "data[:5]"
   ]
  },
  {
   "cell_type": "code",
   "execution_count": 4,
   "metadata": {},
   "outputs": [
    {
     "data": {
      "text/plain": [
       "[Document(metadata={'source': './employees.csv', 'row': 0}, page_content='部門: 資訊部\\n職稱: 部門經理\\n姓名: 王大明\\n分機: 1001'),\n",
       " Document(metadata={'source': './employees.csv', 'row': 1}, page_content='部門: 資訊部\\n職稱: 軟體工程師\\n姓名: 李小華\\n分機: 1002'),\n",
       " Document(metadata={'source': './employees.csv', 'row': 2}, page_content='部門: 資訊部\\n職稱: 系統管理員\\n姓名: 張三\\n分機: 1003'),\n",
       " Document(metadata={'source': './employees.csv', 'row': 3}, page_content='部門: 行銷部\\n職稱: 部門經理\\n姓名: 陳美麗\\n分機: 2001'),\n",
       " Document(metadata={'source': './employees.csv', 'row': 4}, page_content='部門: 行銷部\\n職稱: 市場專員\\n姓名: 黃小玲\\n分機: 2002')]"
      ]
     },
     "execution_count": 4,
     "metadata": {},
     "output_type": "execute_result"
    }
   ],
   "source": [
    "# 使用Text splitter分割成更小的chunk\n",
    "text_splitter = RecursiveCharacterTextSplitter(chunk_size=100, chunk_overlap=5)\n",
    "all_splits = text_splitter.split_documents(data)\n",
    "all_splits[:5]"
   ]
  },
  {
   "cell_type": "code",
   "execution_count": 5,
   "metadata": {},
   "outputs": [],
   "source": [
    "# 把文件進行embedding成向量，並存入Chroma db\n",
    "persist_directory = 'db'\n",
    "vectordb = Chroma.from_documents(documents=all_splits, embedding=OpenAIEmbeddings(), persist_directory=persist_directory)"
   ]
  },
  {
   "cell_type": "code",
   "execution_count": 6,
   "metadata": {},
   "outputs": [
    {
     "data": {
      "text/plain": [
       "[Document(metadata={'row': 2, 'source': './employees.csv'}, page_content='部門: 資訊部\\n職稱: 系統管理員\\n姓名: 張三\\n分機: 1003'),\n",
       " Document(metadata={'row': 2, 'source': './employees.csv'}, page_content='部門: 資訊部\\n職稱: 系統管理員\\n姓名: 張三\\n分機: 1003'),\n",
       " Document(metadata={'row': 2, 'source': './employees.csv'}, page_content='部門: 資訊部\\n職稱: 系統管理員\\n姓名: 張三\\n分機: 1003'),\n",
       " Document(metadata={'row': 2, 'source': './employees.csv'}, page_content='部門: 資訊部\\n職稱: 系統管理員\\n姓名: 張三\\n分機: 1003')]"
      ]
     },
     "execution_count": 6,
     "metadata": {},
     "output_type": "execute_result"
    }
   ],
   "source": [
    "# 測試Vector db查詢\n",
    "query = \"張三的分機\"\n",
    "docs = vectordb.similarity_search(query)\n",
    "docs"
   ]
  },
  {
   "cell_type": "code",
   "execution_count": null,
   "metadata": {},
   "outputs": [],
   "source": [
    "# 載入圖片\n",
    "#from langchain_community.document_loaders.image import UnstructuredImageLoader\n",
    "#loader = UnstructuredImageLoader(\"./payment.png\")\n",
    "#data = loader.load()\n",
    "#data"
   ]
  },
  {
   "cell_type": "code",
   "execution_count": 7,
   "metadata": {},
   "outputs": [
    {
     "data": {
      "text/plain": [
       "[Document(metadata={'source': './payment.txt'}, page_content='[經費報銷流程]金額100,000以上請購單位不得自辦，須備妥：1.請購單或簽呈 2.購案說明書 3.規格明細表 4. 指定廠商需付限制性招標申請書\\n[經費報銷流程]金額20,000~99,999，須備妥：1.請購單 2.一家估價單以上 經院長核定後須備妥：1.已核准請購單 2.黏貼憑證 3.議價後之估價單\\n[經費報銷流程]金額6,000~19,999，須備妥：1.請購單 2.黏貼憑證 3.一家估價單 3.發票\\n[經費報銷流程]金額5,999以下，須備妥：1.請購單 2.黏貼憑證 3.發票')]"
      ]
     },
     "execution_count": 7,
     "metadata": {},
     "output_type": "execute_result"
    }
   ],
   "source": [
    "# 使用文件載入器，讀取經費報銷流程\n",
    "loader = TextLoader(file_path='./payment.txt')\n",
    "data = loader.load()\n",
    "data"
   ]
  },
  {
   "cell_type": "code",
   "execution_count": 8,
   "metadata": {},
   "outputs": [
    {
     "data": {
      "text/plain": [
       "[Document(metadata={'source': './payment.txt'}, page_content='[經費報銷流程]金額100,000以上請購單位不得自辦，須備妥：1.請購單或簽呈 2.購案說明書 3.規格明細表 4. 指定廠商需付限制性招標申請書'),\n",
       " Document(metadata={'source': './payment.txt'}, page_content='[經費報銷流程]金額20,000~99,999，須備妥：1.請購單 2.一家估價單以上 經院長核定後須備妥：1.已核准請購單 2.黏貼憑證 3.議價後之估價單'),\n",
       " Document(metadata={'source': './payment.txt'}, page_content='[經費報銷流程]金額6,000~19,999，須備妥：1.請購單 2.黏貼憑證 3.一家估價單 3.發票'),\n",
       " Document(metadata={'source': './payment.txt'}, page_content='[經費報銷流程]金額5,999以下，須備妥：1.請購單 2.黏貼憑證 3.發票')]"
      ]
     },
     "execution_count": 8,
     "metadata": {},
     "output_type": "execute_result"
    }
   ],
   "source": [
    "# 使用Text splitter分割成更小的chunk\n",
    "text_splitter = RecursiveCharacterTextSplitter(chunk_size=80, chunk_overlap=5)\n",
    "all_splits = text_splitter.split_documents(data)\n",
    "all_splits"
   ]
  },
  {
   "cell_type": "code",
   "execution_count": 9,
   "metadata": {},
   "outputs": [
    {
     "data": {
      "text/plain": [
       "['974dc9d4-d642-4701-9f96-d34f46bef2cf',\n",
       " '184e3d1a-7333-433f-8f6a-97a52ecfd1b9',\n",
       " '024502bf-d3ad-41ec-b1df-dda016a28a67',\n",
       " 'be43078c-9085-4745-b9e4-58f2d947f890']"
      ]
     },
     "execution_count": 9,
     "metadata": {},
     "output_type": "execute_result"
    }
   ],
   "source": [
    "# 把文件進行embedding成向量，並存入Chroma db\n",
    "vectordb.add_documents(documents=all_splits, embedding=OpenAIEmbeddings())"
   ]
  },
  {
   "cell_type": "code",
   "execution_count": 10,
   "metadata": {},
   "outputs": [
    {
     "data": {
      "text/plain": [
       "[Document(metadata={'source': './payment.txt'}, page_content='[經費報銷流程]金額5,999以下，須備妥：1.請購單 2.黏貼憑證 3.發票'),\n",
       " Document(metadata={'source': './payment.txt'}, page_content='[經費報銷流程]金額6,000~19,999，須備妥：1.請購單 2.黏貼憑證 3.一家估價單 3.發票'),\n",
       " Document(metadata={'source': './payment.txt'}, page_content='[經費報銷流程]金額20,000~99,999，須備妥：1.請購單 2.一家估價單以上 經院長核定後須備妥：1.已核准請購單 2.黏貼憑證 3.議價後之估價單'),\n",
       " Document(metadata={'source': './payment.txt'}, page_content='[經費報銷流程]金額100,000以上請購單位不得自辦，須備妥：1.請購單或簽呈 2.購案說明書 3.規格明細表 4. 指定廠商需付限制性招標申請書')]"
      ]
     },
     "execution_count": 10,
     "metadata": {},
     "output_type": "execute_result"
    }
   ],
   "source": [
    "# 測試Vector db查詢\n",
    "query = \"發票如何請款？\"\n",
    "docs = vectordb.similarity_search(query)\n",
    "docs"
   ]
  },
  {
   "cell_type": "code",
   "execution_count": 11,
   "metadata": {},
   "outputs": [],
   "source": [
    "# 啟動LLM服務\n",
    "llm = ChatOpenAI(\n",
    "    model=\"gpt-4o-mini-2024-07-18\",\n",
    "    temperature=0,\n",
    "    max_tokens=None,\n",
    "    timeout=None,\n",
    "    max_retries=2\n",
    ")"
   ]
  },
  {
   "cell_type": "code",
   "execution_count": 12,
   "metadata": {},
   "outputs": [
    {
     "name": "stderr",
     "output_type": "stream",
     "text": [
      "/Users/gracechen/Documents/github/LangChainRAG/grace/lib/python3.9/site-packages/langchain_core/_api/deprecation.py:139: LangChainDeprecationWarning: The method `BaseChatModel.__call__` was deprecated in langchain-core 0.1.7 and will be removed in 0.3.0. Use invoke instead.\n",
      "  warn_deprecated(\n"
     ]
    },
    {
     "data": {
      "text/plain": [
       "AIMessage(content=\"Taiwan is known for a variety of cultural, historical, and natural attractions, as well as its vibrant economy. Here are some key aspects:\\n\\n1. **Technology and Industry**: Taiwan is a global leader in technology and manufacturing, particularly in semiconductor production. Companies like TSMC (Taiwan Semiconductor Manufacturing Company) are crucial to the global tech supply chain.\\n\\n2. **Night Markets**: Taiwan is famous for its bustling night markets, where visitors can enjoy a wide array of street food, snacks, and local delicacies. Popular dishes include stinky tofu, bubble tea, and oyster omelets.\\n\\n3. **Natural Beauty**: The island boasts stunning landscapes, including mountains, beaches, and national parks. Taroko Gorge and Alishan are popular destinations for hiking and nature lovers.\\n\\n4. **Cultural Heritage**: Taiwan has a rich cultural heritage influenced by indigenous peoples, Chinese immigrants, and Japanese colonial history. This is reflected in its festivals, traditional arts, and architecture.\\n\\n5. **Taipei 101**: Once the tallest building in the world, Taipei 101 is an iconic skyscraper that features an observatory with panoramic views of the city.\\n\\n6. **Buddhism and Temples**: Taiwan is home to many beautiful temples, including the Longshan Temple in Taipei and the Fo Guang Shan Monastery, which reflect the island's spiritual diversity.\\n\\n7. **Democracy and Politics**: Taiwan is known for its vibrant democracy and political system, which is distinct from that of mainland China. The island has a strong civil society and active political participation.\\n\\n8. **Culinary Scene**: Beyond night markets, Taiwan has a diverse culinary scene that includes traditional Taiwanese cuisine, as well as influences from various cultures, including Japanese and Southeast Asian.\\n\\n9. **Art and Design**: Taiwan has a growing art scene, with numerous galleries, museums, and design festivals showcasing contemporary art and traditional crafts.\\n\\n10. **Education and Research**: Taiwan is known for its high-quality education system and research institutions, particularly in science and technology.\\n\\nThese elements contribute to Taiwan's unique identity and make it a fascinating destination for visitors and a significant player on the global stage.\", response_metadata={'token_usage': {'completion_tokens': 443, 'prompt_tokens': 13, 'total_tokens': 456}, 'model_name': 'gpt-4o-mini-2024-07-18', 'system_fingerprint': 'fp_611b667b19', 'finish_reason': 'stop', 'logprobs': None}, id='run-28929102-b14e-49e5-9557-19a15a13fa06-0', usage_metadata={'input_tokens': 13, 'output_tokens': 443, 'total_tokens': 456})"
      ]
     },
     "execution_count": 12,
     "metadata": {},
     "output_type": "execute_result"
    }
   ],
   "source": [
    "# 測試確認LLM有成功啟動\n",
    "llm(\"What is Taiwan known for?\")"
   ]
  },
  {
   "cell_type": "code",
   "execution_count": 13,
   "metadata": {},
   "outputs": [],
   "source": [
    "# 設定prompt\n",
    "prompt_template = \"\"\"You are an internal support chatbot for a company, designed to answer various work-related questions from colleagues.\n",
    "You need to provide accurate, concise, and helpful answers. If necessary, direct the user to relevant internal resources or documents. \n",
    "Please respond to all questions in a friendly and professional tone.\n",
    "Use the following pieces of context to answer the question at the end. If you don't know the answer, just say that you don't know, don't try to make up an answer.\n",
    "{context}\n",
    "Question: {question}\n",
    "Answer in Chineses:\"\"\"\n",
    "PROMPT = PromptTemplate(\n",
    "    template=prompt_template, input_variables=[\"context\",\"question\"]\n",
    ")"
   ]
  },
  {
   "cell_type": "code",
   "execution_count": 14,
   "metadata": {},
   "outputs": [],
   "source": [
    "# 創建RAG，將Chroma & Prompt & LLM串在一起\n",
    "chain_type_kwargs = {\"prompt\": PROMPT}\n",
    "retriever = vectordb.as_retriever(search_type=\"similarity_score_threshold\", search_kwargs={\"score_threshold\": 0.5})\n",
    "qa = RetrievalQA.from_chain_type(\n",
    "    llm=llm, \n",
    "    chain_type=\"stuff\", \n",
    "    retriever=retriever, \n",
    "    chain_type_kwargs = chain_type_kwargs\n",
    ")"
   ]
  },
  {
   "cell_type": "code",
   "execution_count": 15,
   "metadata": {},
   "outputs": [
    {
     "data": {
      "text/plain": [
       "{'query': '龐統的分機幾號？', 'result': '龐統的分機是3009。'}"
      ]
     },
     "execution_count": 15,
     "metadata": {},
     "output_type": "execute_result"
    }
   ],
   "source": [
    "# 測試RAG\n",
    "query = \"龐統的分機幾號？\"\n",
    "qa.invoke(query)"
   ]
  },
  {
   "cell_type": "code",
   "execution_count": 16,
   "metadata": {},
   "outputs": [
    {
     "name": "stdout",
     "output_type": "stream",
     "text": [
      "Running on local URL:  http://127.0.0.1:7860\n",
      "\n",
      "To create a public link, set `share=True` in `launch()`.\n"
     ]
    },
    {
     "data": {
      "text/html": [
       "<div><iframe src=\"http://127.0.0.1:7860/\" width=\"100%\" height=\"500\" allow=\"autoplay; camera; microphone; clipboard-read; clipboard-write;\" frameborder=\"0\" allowfullscreen></iframe></div>"
      ],
      "text/plain": [
       "<IPython.core.display.HTML object>"
      ]
     },
     "metadata": {},
     "output_type": "display_data"
    },
    {
     "data": {
      "text/plain": []
     },
     "execution_count": 16,
     "metadata": {},
     "output_type": "execute_result"
    }
   ],
   "source": [
    "# 以Gradio作為GUI串接介面，讓使用者可以和RAG進行問答\n",
    "def predict(message,history):\n",
    "    return qa.invoke(message)['result']\n",
    "\n",
    "gr.ChatInterface(predict).launch()"
   ]
  },
  {
   "cell_type": "code",
   "execution_count": null,
   "metadata": {},
   "outputs": [],
   "source": [
    "#龐統的分機幾號？\n",
    "#請問資訊部同仁的分機號碼？\n",
    "#我想知道50000元的經費請款流程？\n",
    "#請問請購多少金額需要估價單？\n",
    "#今天晚餐吃什麼？"
   ]
  }
 ],
 "metadata": {
  "kernelspec": {
   "display_name": "rag",
   "language": "python",
   "name": "python3"
  },
  "language_info": {
   "codemirror_mode": {
    "name": "ipython",
    "version": 3
   },
   "file_extension": ".py",
   "mimetype": "text/x-python",
   "name": "python",
   "nbconvert_exporter": "python",
   "pygments_lexer": "ipython3",
   "version": "3.9.6"
  }
 },
 "nbformat": 4,
 "nbformat_minor": 2
}
